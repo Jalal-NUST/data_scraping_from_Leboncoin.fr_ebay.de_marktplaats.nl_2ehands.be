{
 "cells": [
  {
   "cell_type": "code",
   "execution_count": 1,
   "metadata": {
    "collapsed": true
   },
   "outputs": [],
   "source": [
    "import requests,time,random,queue\n",
    "from bs4 import BeautifulSoup\n",
    "from selenium import webdriver\n",
    "import pandas as pd\n",
    "from selenium.webdriver.chrome.options import Options\n",
    "\n",
    "data_new= pd.DataFrame(columns= ['img_link','Title','Price','item_link'])\n",
    "q = queue.Queue()\n",
    "def clear(): \n",
    "  \n",
    "    # for windows \n",
    "    if name == 'nt': \n",
    "        _ = system('cls') \n",
    "  \n",
    "    # for mac and linux(here, os.name is 'posix') \n",
    "    else: \n",
    "        _ = system('clear') \n",
    "chrome_options = Options()\n",
    "\n",
    "############################################################\n",
    "class Scrap:\n",
    "\n",
    "    def popup(self):\n",
    "        self.browser = webdriver.Chrome('chromedriver.exe', options=chrome_options)\n",
    "        self.browser.get('https://ebay.de/')\n",
    "        time.sleep(10)\n",
    "        self.browser.find_element_by_id(\"gdpr-banner-accept\").click()\n",
    "    def search(self,search_item='Porzellan'):\n",
    "        search_200 = 'https://www.ebay.de/sch/i.html?_from=R40&_nkw={s}&_sacat=0&_ipg=200'.format(s=search_item)\n",
    "        self.browser.get(search_200)\n",
    "    def next_page(self,page_no,search_item='Porzellan'):\n",
    "        next_page ='https://www.ebay.de/sch/i.html?_from=R40&_nkw={s}&_sacat=0&_ipg=200&_pgn={p}'.format(s=search_item,p=page_no)\n",
    "        self.browser.get(next_page)\n",
    "    def scrap_data(self,data_new=data_new):\n",
    "        src = self.browser.page_source\n",
    "        soup = BeautifulSoup(src,'lxml')\n",
    "        items = soup.find_all('div',{'class':\"s-item__wrapper clearfix\"})\n",
    "        time.sleep(3)\n",
    "        for item in range(200):\n",
    "            dic_new={}\n",
    "            title = items[item].find('h3',{'class':\"s-item__title\"}).get_text().strip()\n",
    "            price = items[item].find('span',{'class':\"s-item__price\"}).get_text().strip()\n",
    "            img = items[item].find('div',{'class':\"s-item__image-wrapper\"})\n",
    "            a = [img['href'] if img.get('href') is not None else img['src'] for img in img.select('[href^=\"http\"], [src^=\"http\"]') ]\n",
    "            link = a[0][:-5]+'.jpg'\n",
    "            item_link = items[item].find('a',{'class':\"s-item__link\"})['href']\n",
    "            dic_new['img_link']= link\n",
    "            dic_new['Title']= title\n",
    "            dic_new['Price']= price\n",
    "            dic_new['item_link']= item_link\n",
    "            q.put(dic_new)"
   ]
  },
  {
   "cell_type": "code",
   "execution_count": 2,
   "metadata": {
    "collapsed": true
   },
   "outputs": [],
   "source": [
    "pages = 5\n",
    "\n",
    "s=Scrap()\n",
    "s.popup()\n",
    "s.search()\n",
    "s.scrap_data()\n",
    "for page in range(2,pages+1):\n",
    "    \n",
    "    s.next_page(page,search_item='Porzellan')\n",
    "    s.scrap_data()\n",
    "    time.sleep(3)\n",
    "\n",
    "\n",
    "count = 0\n",
    "while(not(q.empty())):\n",
    "    count = count + 1\n",
    "    result = q.get()\n",
    "#     print(count,\" --> \" , result)\n",
    "    data_new = data_new.append(result, ignore_index=True)\n",
    "data_new.to_csv(r'eBay.csv')"
   ]
  },
  {
   "cell_type": "code",
   "execution_count": 3,
   "metadata": {},
   "outputs": [
    {
     "name": "stdout",
     "output_type": "stream",
     "text": [
      "2\n"
     ]
    }
   ],
   "source": [
    "for i in range(2,3):\n",
    "    print(i)"
   ]
  },
  {
   "cell_type": "code",
   "execution_count": null,
   "metadata": {
    "collapsed": true
   },
   "outputs": [],
   "source": []
  }
 ],
 "metadata": {
  "kernelspec": {
   "display_name": "Python 3",
   "language": "python",
   "name": "python3"
  },
  "language_info": {
   "codemirror_mode": {
    "name": "ipython",
    "version": 3
   },
   "file_extension": ".py",
   "mimetype": "text/x-python",
   "name": "python",
   "nbconvert_exporter": "python",
   "pygments_lexer": "ipython3",
   "version": "3.6.3"
  }
 },
 "nbformat": 4,
 "nbformat_minor": 2
}
