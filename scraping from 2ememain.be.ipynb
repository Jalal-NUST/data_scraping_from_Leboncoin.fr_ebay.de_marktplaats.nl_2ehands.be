{
 "cells": [
  {
   "cell_type": "code",
   "execution_count": 1,
   "metadata": {
    "collapsed": true
   },
   "outputs": [],
   "source": [
    "import requests,time,random,queue\n",
    "from bs4 import BeautifulSoup\n",
    "from selenium import webdriver\n",
    "import pandas as pd\n",
    "from selenium.webdriver.chrome.options import Options\n",
    "\n",
    "data_new= pd.DataFrame(columns= ['Title','Price','item_link'])\n",
    "q = queue.Queue()\n",
    "def clear(): \n",
    "  \n",
    "    # for windows \n",
    "    if name == 'nt': \n",
    "        _ = system('cls') \n",
    "  \n",
    "    # for mac and linux(here, os.name is 'posix') \n",
    "    else: \n",
    "        _ = system('clear') \n",
    "chrome_options = Options()\n",
    "\n",
    "############################################################\n",
    "class Scrap:\n",
    "\n",
    "    def popup(self):\n",
    "        self.browser = webdriver.Chrome('chromedriver.exe', options=chrome_options)\n",
    "        self.browser.get('https://www.2ememain.be/')\n",
    "        time.sleep(10)\n",
    "        self.browser.find_element_by_id(\"gdpr-consent-banner-accept-button\").click()\n",
    "        \n",
    "    def search(self,search_item='porcelaine'):\n",
    "        search_200 = 'https://www.2ememain.be/q/{s}/'.format(s=search_item)\n",
    "        self.browser.get(search_200)\n",
    "        time.sleep(2)\n",
    "    def next_page(self,page_no,search_item='porcelaine'):\n",
    "        next_page ='https://www.2ememain.be/q/{s}/p/{p}/'.format(s=search_item,p=page_no)\n",
    "        self.browser.get(next_page)\n",
    "        try:\n",
    "            browser.find_element_by_class_name('hz-Icon hz-Icon--m hz-SvgIcon hz-SvgIconClose').click()\n",
    "        except:\n",
    "            pass\n",
    "        time.sleep(2)\n",
    "    def scrap_data(self,data_new=data_new):\n",
    "        dic_new={}\n",
    "        src = self.browser.page_source\n",
    "        soup = BeautifulSoup(src,'lxml')\n",
    "        items = soup.find_all('li',{'class':\"mp-Listing mp-Listing--list-item \"})\n",
    "        time.sleep(3)\n",
    "        for item in range(33):\n",
    "            dic_new={}\n",
    "            title = items[item].find('h3',{'class':\"mp-Listing-title\"}).get_text().strip()\n",
    "            price = items[item].find('span',{'class':\"mp-Listing-price mp-text-price-label\"}).get_text().strip().replace(\"\\xa0\",\" \")\n",
    "            \n",
    "            item_link = 'https://www.2ememain.be/'+ items[item].find('a',{'class':\"mp-Listing-coverLink\"})['href']\n",
    "            dic_new['Title']= title\n",
    "            dic_new['Price']= price\n",
    "            dic_new['item_link']= item_link\n",
    "            q.put(dic_new)"
   ]
  },
  {
   "cell_type": "code",
   "execution_count": 2,
   "metadata": {
    "collapsed": true
   },
   "outputs": [],
   "source": [
    "pages = 30\n",
    "\n",
    "s=Scrap()\n",
    "s.popup()\n",
    "s.search()\n",
    "s.scrap_data()\n",
    "for page in range(2,pages+1):\n",
    "    \n",
    "    s.next_page(page_no = page,search_item='porcelaine')\n",
    "    s.scrap_data()\n",
    "    time.sleep(3)\n",
    "\n",
    "\n"
   ]
  },
  {
   "cell_type": "code",
   "execution_count": 3,
   "metadata": {
    "collapsed": true
   },
   "outputs": [],
   "source": [
    "count = 0\n",
    "while(not(q.empty())):\n",
    "    count = count + 1\n",
    "    result = q.get()\n",
    "#     print(count,\" --> \" , result)\n",
    "    data_new = data_new.append(result, ignore_index=True)\n",
    "data_new.to_csv(r'2ememain.be.csv')"
   ]
  },
  {
   "cell_type": "code",
   "execution_count": null,
   "metadata": {
    "collapsed": true
   },
   "outputs": [],
   "source": []
  }
 ],
 "metadata": {
  "kernelspec": {
   "display_name": "Python 3",
   "language": "python",
   "name": "python3"
  },
  "language_info": {
   "codemirror_mode": {
    "name": "ipython",
    "version": 3
   },
   "file_extension": ".py",
   "mimetype": "text/x-python",
   "name": "python",
   "nbconvert_exporter": "python",
   "pygments_lexer": "ipython3",
   "version": "3.6.3"
  }
 },
 "nbformat": 4,
 "nbformat_minor": 2
}
