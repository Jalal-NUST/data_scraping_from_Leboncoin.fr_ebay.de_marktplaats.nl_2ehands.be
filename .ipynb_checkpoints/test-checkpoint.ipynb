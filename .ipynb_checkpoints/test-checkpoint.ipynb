{
 "cells": [
  {
   "cell_type": "code",
   "execution_count": 1,
   "metadata": {},
   "outputs": [],
   "source": [
    "import requests,time,random,queue\n",
    "from bs4 import BeautifulSoup\n",
    "from selenium import webdriver\n",
    "import pandas as pd\n",
    "from selenium.webdriver.chrome.options import Options\n",
    "\n",
    "\n",
    "data_new= pd.DataFrame(columns= ['img_link','Title','Price','page_index'])\n",
    "q = queue.Queue()\n",
    "def clear(): \n",
    "  \n",
    "    # for windows \n",
    "    if name == 'nt': \n",
    "        _ = system('cls') \n",
    "  \n",
    "    # for mac and linux(here, os.name is 'posix') \n",
    "    else: \n",
    "        _ = system('clear') \n",
    "chrome_options = Options()\n",
    "\n",
    "############################################################\n",
    "class Scrap:\n",
    "\n",
    "    def popup(self):\n",
    "        pass\n",
    "    def search(self,search_item='Porzellan'):\n",
    "        pass\n",
    "    def next_page(self,page_no,search_item='Porzellan'):\n",
    "        pass\n",
    "    def scrap_data(self,data_new=data_new):\n",
    "        dic_new={}\n",
    "        dic_new['img_link']= 'jalal'\n",
    "        dic_new['Title']= 'title'\n",
    "        dic_new['Price']= 'price'\n",
    "        q.put(dic_new)\n"
   ]
  },
  {
   "cell_type": "code",
   "execution_count": 2,
   "metadata": {
    "collapsed": true
   },
   "outputs": [],
   "source": [
    "s=Scrap()\n",
    "s.popup()\n",
    "s.search()\n",
    "count = 0\n",
    "while(not(q.empty())):\n",
    "    count = count + 1\n",
    "    result = q.get()\n",
    "    print(count,\" --> \" , result)\n",
    "    data_new = data_new.append(result, ignore_index=True)\n",
    "data_new.to_csv(r'test.csv')\n"
   ]
  },
  {
   "cell_type": "code",
   "execution_count": null,
   "metadata": {
    "collapsed": true
   },
   "outputs": [],
   "source": []
  }
 ],
 "metadata": {
  "kernelspec": {
   "display_name": "Python 3",
   "language": "python",
   "name": "python3"
  },
  "language_info": {
   "codemirror_mode": {
    "name": "ipython",
    "version": 3
   },
   "file_extension": ".py",
   "mimetype": "text/x-python",
   "name": "python",
   "nbconvert_exporter": "python",
   "pygments_lexer": "ipython3",
   "version": "3.6.3"
  }
 },
 "nbformat": 4,
 "nbformat_minor": 2
}
